{
 "cells": [
  {
   "cell_type": "code",
   "execution_count": 1,
   "metadata": {},
   "outputs": [],
   "source": [
    "import tensorflow as tf\n",
    "import matplotlib.pyplot as plt\n",
    "import numpy as np"
   ]
  },
  {
   "cell_type": "markdown",
   "metadata": {},
   "source": [
    "# Marco Teorico"
   ]
  },
  {
   "cell_type": "markdown",
   "metadata": {},
   "source": [
    "Un modelo de Machine Learning necesita:\n",
    "    - Datos\n",
    "    - Modelo\n",
    "    - Funcion Objetivo\n",
    "    - Algoritmo de Optimizacion"
   ]
  },
  {
   "cell_type": "markdown",
   "metadata": {},
   "source": [
    "# Data Generation"
   ]
  },
  {
   "cell_type": "code",
   "execution_count": 5,
   "metadata": {},
   "outputs": [],
   "source": [
    "observations = 1000\n",
    "\n",
    "# se generan 1000 muestras de dos variables (x y z) con datos que varian entre -10 y 10\n",
    "xs = np.random.uniform(-10, 10, (observations, 1))\n",
    "zs = np.random.uniform(-10, 10, (observations, 1))\n",
    "\n",
    "# se agrupan las variables en dos columnas\n",
    "generated_inputs = np.column_stack((xs, zs))\n",
    "\n",
    "# se genera 1000 ruidos para insertar a las salidas y simular la aleatoriedad de los datos\n",
    "noise = np.random.uniform(-1, 1, (observations, 1))\n",
    "\n",
    "# se generan las salidas con comportamiento lineal en funcion de las entradas (x y z) agregando un ruido aleatorio\n",
    "generated_targets = 2*xs - 3*zs + 5 + noise\n",
    "\n",
    "# se guardan los datos en un archivo .npz, que permite almacenar array multidimensionales (que permiten representar tensors)\n",
    "# ya que tensorflow trabaja principalmente con tensors\n",
    "np.savez('tf_intro', inputs=generated_inputs, targets=generated_targets)"
   ]
  },
  {
   "cell_type": "markdown",
   "metadata": {},
   "source": [
    "# Solving with TensorFlow"
   ]
  },
  {
   "cell_type": "code",
   "execution_count": 6,
   "metadata": {},
   "outputs": [],
   "source": [
    "# Datos\n",
    "training_data = np.load('tf_intro.npz')"
   ]
  },
  {
   "cell_type": "code",
   "execution_count": 20,
   "metadata": {},
   "outputs": [
    {
     "name": "stdout",
     "output_type": "stream",
     "text": [
      "Train on 1000 samples\n",
      "Epoch 1/100\n",
      "1000/1000 [==============================] - 0s 355us/sample - loss: 33.4009\n",
      "Epoch 2/100\n",
      "1000/1000 [==============================] - 0s 68us/sample - loss: 1.1060\n",
      "Epoch 3/100\n",
      "1000/1000 [==============================] - 0s 53us/sample - loss: 0.4393\n",
      "Epoch 4/100\n",
      "1000/1000 [==============================] - 0s 50us/sample - loss: 0.3959\n",
      "Epoch 5/100\n",
      "1000/1000 [==============================] - 0s 50us/sample - loss: 0.3907\n",
      "Epoch 6/100\n",
      "1000/1000 [==============================] - 0s 43us/sample - loss: 0.4089\n",
      "Epoch 7/100\n",
      "1000/1000 [==============================] - 0s 54us/sample - loss: 0.3727\n",
      "Epoch 8/100\n",
      "1000/1000 [==============================] - 0s 51us/sample - loss: 0.4157\n",
      "Epoch 9/100\n",
      "1000/1000 [==============================] - 0s 56us/sample - loss: 0.3811\n",
      "Epoch 10/100\n",
      "1000/1000 [==============================] - 0s 72us/sample - loss: 0.4030\n",
      "Epoch 11/100\n",
      "1000/1000 [==============================] - 0s 85us/sample - loss: 0.3790\n",
      "Epoch 12/100\n",
      "1000/1000 [==============================] - 0s 85us/sample - loss: 0.4106\n",
      "Epoch 13/100\n",
      "1000/1000 [==============================] - 0s 91us/sample - loss: 0.3728\n",
      "Epoch 14/100\n",
      "1000/1000 [==============================] - 0s 94us/sample - loss: 0.3910\n",
      "Epoch 15/100\n",
      "1000/1000 [==============================] - 0s 68us/sample - loss: 0.3912\n",
      "Epoch 16/100\n",
      "1000/1000 [==============================] - 0s 64us/sample - loss: 0.3825\n",
      "Epoch 17/100\n",
      "1000/1000 [==============================] - 0s 63us/sample - loss: 0.3728\n",
      "Epoch 18/100\n",
      "1000/1000 [==============================] - 0s 51us/sample - loss: 0.3956\n",
      "Epoch 19/100\n",
      "1000/1000 [==============================] - 0s 58us/sample - loss: 0.3891\n",
      "Epoch 20/100\n",
      "1000/1000 [==============================] - 0s 55us/sample - loss: 0.3886\n",
      "Epoch 21/100\n",
      "1000/1000 [==============================] - 0s 61us/sample - loss: 0.3736\n",
      "Epoch 22/100\n",
      "1000/1000 [==============================] - 0s 82us/sample - loss: 0.3603\n",
      "Epoch 23/100\n",
      "1000/1000 [==============================] - 0s 81us/sample - loss: 0.4116\n",
      "Epoch 24/100\n",
      "1000/1000 [==============================] - 0s 63us/sample - loss: 0.3765\n",
      "Epoch 25/100\n",
      "1000/1000 [==============================] - 0s 72us/sample - loss: 0.3835\n",
      "Epoch 26/100\n",
      "1000/1000 [==============================] - 0s 60us/sample - loss: 0.3909\n",
      "Epoch 27/100\n",
      "1000/1000 [==============================] - 0s 51us/sample - loss: 0.3794\n",
      "Epoch 28/100\n",
      "1000/1000 [==============================] - 0s 50us/sample - loss: 0.4035\n",
      "Epoch 29/100\n",
      "1000/1000 [==============================] - 0s 52us/sample - loss: 0.3816\n",
      "Epoch 30/100\n",
      "1000/1000 [==============================] - 0s 58us/sample - loss: 0.3930\n",
      "Epoch 31/100\n",
      "1000/1000 [==============================] - 0s 50us/sample - loss: 0.3697\n",
      "Epoch 32/100\n",
      "1000/1000 [==============================] - 0s 53us/sample - loss: 0.4151\n",
      "Epoch 33/100\n",
      "1000/1000 [==============================] - 0s 44us/sample - loss: 0.3856\n",
      "Epoch 34/100\n",
      "1000/1000 [==============================] - 0s 57us/sample - loss: 0.3732\n",
      "Epoch 35/100\n",
      "1000/1000 [==============================] - 0s 67us/sample - loss: 0.3710\n",
      "Epoch 36/100\n",
      "1000/1000 [==============================] - 0s 62us/sample - loss: 0.3919\n",
      "Epoch 37/100\n",
      "1000/1000 [==============================] - 0s 67us/sample - loss: 0.3759\n",
      "Epoch 38/100\n",
      "1000/1000 [==============================] - 0s 94us/sample - loss: 0.3904\n",
      "Epoch 39/100\n",
      "1000/1000 [==============================] - 0s 92us/sample - loss: 0.3770\n",
      "Epoch 40/100\n",
      "1000/1000 [==============================] - 0s 67us/sample - loss: 0.4328\n",
      "Epoch 41/100\n",
      "1000/1000 [==============================] - 0s 60us/sample - loss: 0.3676\n",
      "Epoch 42/100\n",
      "1000/1000 [==============================] - 0s 64us/sample - loss: 0.3895\n",
      "Epoch 43/100\n",
      "1000/1000 [==============================] - 0s 65us/sample - loss: 0.3728\n",
      "Epoch 44/100\n",
      "1000/1000 [==============================] - 0s 60us/sample - loss: 0.3667\n",
      "Epoch 45/100\n",
      "1000/1000 [==============================] - 0s 64us/sample - loss: 0.3879\n",
      "Epoch 46/100\n",
      "1000/1000 [==============================] - 0s 53us/sample - loss: 0.3907\n",
      "Epoch 47/100\n",
      "1000/1000 [==============================] - 0s 63us/sample - loss: 0.3689\n",
      "Epoch 48/100\n",
      "1000/1000 [==============================] - 0s 72us/sample - loss: 0.3986\n",
      "Epoch 49/100\n",
      "1000/1000 [==============================] - 0s 64us/sample - loss: 0.3932\n",
      "Epoch 50/100\n",
      "1000/1000 [==============================] - 0s 57us/sample - loss: 0.3746\n",
      "Epoch 51/100\n",
      "1000/1000 [==============================] - 0s 58us/sample - loss: 0.4106\n",
      "Epoch 52/100\n",
      "1000/1000 [==============================] - ETA: 0s - loss: 0.363 - 0s 59us/sample - loss: 0.3646\n",
      "Epoch 53/100\n",
      "1000/1000 [==============================] - 0s 68us/sample - loss: 0.3844\n",
      "Epoch 54/100\n",
      "1000/1000 [==============================] - 0s 53us/sample - loss: 0.3864\n",
      "Epoch 55/100\n",
      "1000/1000 [==============================] - 0s 66us/sample - loss: 0.3759\n",
      "Epoch 56/100\n",
      "1000/1000 [==============================] - 0s 51us/sample - loss: 0.3850\n",
      "Epoch 57/100\n",
      "1000/1000 [==============================] - 0s 50us/sample - loss: 0.3924\n",
      "Epoch 58/100\n",
      "1000/1000 [==============================] - 0s 68us/sample - loss: 0.3956\n",
      "Epoch 59/100\n",
      "1000/1000 [==============================] - 0s 48us/sample - loss: 0.3758\n",
      "Epoch 60/100\n",
      "1000/1000 [==============================] - 0s 50us/sample - loss: 0.3839\n",
      "Epoch 61/100\n",
      "1000/1000 [==============================] - 0s 51us/sample - loss: 0.3868\n",
      "Epoch 62/100\n",
      "1000/1000 [==============================] - 0s 50us/sample - loss: 0.3616\n",
      "Epoch 63/100\n",
      "1000/1000 [==============================] - 0s 48us/sample - loss: 0.3895\n",
      "Epoch 64/100\n",
      "1000/1000 [==============================] - 0s 51us/sample - loss: 0.3780\n",
      "Epoch 65/100\n",
      "1000/1000 [==============================] - 0s 45us/sample - loss: 0.3602\n",
      "Epoch 66/100\n",
      "1000/1000 [==============================] - 0s 47us/sample - loss: 0.3764\n",
      "Epoch 67/100\n",
      "1000/1000 [==============================] - 0s 45us/sample - loss: 0.3984\n",
      "Epoch 68/100\n",
      "1000/1000 [==============================] - 0s 69us/sample - loss: 0.3934\n",
      "Epoch 69/100\n",
      "1000/1000 [==============================] - 0s 92us/sample - loss: 0.3796\n",
      "Epoch 70/100\n",
      "1000/1000 [==============================] - 0s 101us/sample - loss: 0.3688\n",
      "Epoch 71/100\n",
      "1000/1000 [==============================] - 0s 95us/sample - loss: 0.3615\n",
      "Epoch 72/100\n",
      "1000/1000 [==============================] - 0s 72us/sample - loss: 0.3947\n",
      "Epoch 73/100\n",
      "1000/1000 [==============================] - 0s 94us/sample - loss: 0.3673\n",
      "Epoch 74/100\n",
      "1000/1000 [==============================] - 0s 67us/sample - loss: 0.3761\n",
      "Epoch 75/100\n",
      "1000/1000 [==============================] - 0s 66us/sample - loss: 0.3727\n",
      "Epoch 76/100\n",
      "1000/1000 [==============================] - 0s 52us/sample - loss: 0.3896\n",
      "Epoch 77/100\n",
      "1000/1000 [==============================] - 0s 52us/sample - loss: 0.3802\n",
      "Epoch 78/100\n",
      "1000/1000 [==============================] - 0s 50us/sample - loss: 0.3955\n",
      "Epoch 79/100\n",
      "1000/1000 [==============================] - 0s 60us/sample - loss: 0.3704\n",
      "Epoch 80/100\n",
      "1000/1000 [==============================] - 0s 59us/sample - loss: 0.3779\n",
      "Epoch 81/100\n",
      "1000/1000 [==============================] - 0s 92us/sample - loss: 0.3674\n",
      "Epoch 82/100\n",
      "1000/1000 [==============================] - 0s 106us/sample - loss: 0.3806\n",
      "Epoch 83/100\n",
      "1000/1000 [==============================] - 0s 82us/sample - loss: 0.3974\n",
      "Epoch 84/100\n",
      "1000/1000 [==============================] - 0s 92us/sample - loss: 0.3833\n",
      "Epoch 85/100\n",
      "1000/1000 [==============================] - 0s 50us/sample - loss: 0.3803\n",
      "Epoch 86/100\n",
      "1000/1000 [==============================] - 0s 71us/sample - loss: 0.3824\n",
      "Epoch 87/100\n",
      "1000/1000 [==============================] - 0s 88us/sample - loss: 0.3625\n",
      "Epoch 88/100\n",
      "1000/1000 [==============================] - 0s 80us/sample - loss: 0.4069\n",
      "Epoch 89/100\n",
      "1000/1000 [==============================] - 0s 57us/sample - loss: 0.3981\n",
      "Epoch 90/100\n",
      "1000/1000 [==============================] - 0s 68us/sample - loss: 0.3883\n",
      "Epoch 91/100\n",
      "1000/1000 [==============================] - 0s 87us/sample - loss: 0.3646\n",
      "Epoch 92/100\n",
      "1000/1000 [==============================] - 0s 47us/sample - loss: 0.3681\n",
      "Epoch 93/100\n"
     ]
    },
    {
     "name": "stdout",
     "output_type": "stream",
     "text": [
      "1000/1000 [==============================] - 0s 49us/sample - loss: 0.4447\n",
      "Epoch 94/100\n",
      "1000/1000 [==============================] - 0s 45us/sample - loss: 0.3795\n",
      "Epoch 95/100\n",
      "1000/1000 [==============================] - 0s 43us/sample - loss: 0.3713\n",
      "Epoch 96/100\n",
      "1000/1000 [==============================] - 0s 39us/sample - loss: 0.4103\n",
      "Epoch 97/100\n",
      "1000/1000 [==============================] - 0s 49us/sample - loss: 0.3712\n",
      "Epoch 98/100\n",
      "1000/1000 [==============================] - 0s 46us/sample - loss: 0.4105\n",
      "Epoch 99/100\n",
      "1000/1000 [==============================] - 0s 42us/sample - loss: 0.3974\n",
      "Epoch 100/100\n",
      "1000/1000 [==============================] - 0s 48us/sample - loss: 0.4122\n"
     ]
    },
    {
     "data": {
      "text/plain": [
       "<tensorflow.python.keras.callbacks.History at 0x1a3149683c8>"
      ]
     },
     "execution_count": 20,
     "metadata": {},
     "output_type": "execute_result"
    }
   ],
   "source": [
    "input_size = 2\n",
    "output_size = 1\n",
    "\n",
    "# Modelo\n",
    "model = tf.keras.Sequential([\n",
    "    tf.keras.layers.Dense(\n",
    "        output_size, \n",
    "        # parametros opcionales\n",
    "        kernel_initializer=tf.random_uniform_initializer(minval=-0.1, maxval=0.1), # kernel = weights\n",
    "        bias_initializer=tf.random_uniform_initializer(minval=-0.1, maxval=0.1)\n",
    "    )\n",
    "])\n",
    "\n",
    "# Funcion Objetivo (Mean Squared Error) y Algoritmo de Optimizacion (Stochastic Gradient Descent)\n",
    "# model.compile(optimizer='SGD', loss='mean_squared_error')\n",
    "\n",
    "custom_optimizer = tf.keras.optimizers.SGD(learning_rate=0.02)\n",
    "model.compile(optimizer=custom_optimizer, loss='mean_squared_error')\n",
    "\n",
    "# verbose es para indicar el tipo de salida que queremos ver por consola sobre el progreso del training\n",
    "model.fit(training_data['inputs'], training_data['targets'], epochs=100, verbose=1)"
   ]
  },
  {
   "cell_type": "markdown",
   "metadata": {},
   "source": [
    "# Extracting the Weights and Bias"
   ]
  },
  {
   "cell_type": "code",
   "execution_count": 21,
   "metadata": {},
   "outputs": [
    {
     "data": {
      "text/plain": [
       "array([[ 2.0080104],\n",
       "       [-2.9987197]], dtype=float32)"
      ]
     },
     "execution_count": 21,
     "metadata": {},
     "output_type": "execute_result"
    }
   ],
   "source": [
    "weights = model.layers[0].get_weights()[0]\n",
    "weigths"
   ]
  },
  {
   "cell_type": "code",
   "execution_count": 22,
   "metadata": {},
   "outputs": [
    {
     "data": {
      "text/plain": [
       "array([5.008876], dtype=float32)"
      ]
     },
     "execution_count": 22,
     "metadata": {},
     "output_type": "execute_result"
    }
   ],
   "source": [
    "weights = model.layers[0].get_weights()[0]\n",
    "bias"
   ]
  },
  {
   "cell_type": "markdown",
   "metadata": {},
   "source": [
    "# Making Predictions"
   ]
  },
  {
   "cell_type": "code",
   "execution_count": 23,
   "metadata": {},
   "outputs": [],
   "source": [
    "y_pred = model.predict_on_batch(training_data['inputs'])"
   ]
  },
  {
   "cell_type": "markdown",
   "metadata": {},
   "source": [
    "# Plotting the Data"
   ]
  },
  {
   "cell_type": "code",
   "execution_count": 24,
   "metadata": {},
   "outputs": [
    {
     "data": {
      "image/png": "[encoded data removed]",
      "text/plain": [
       "<Figure size 432x288 with 1 Axes>"
      ]
     },
     "metadata": {
      "needs_background": "light"
     },
     "output_type": "display_data"
    }
   ],
   "source": [
    "plt.plot(np.squeeze(y_pred), np.squeeze(training_data['targets']))\n",
    "plt.xlabel('Outputs')\n",
    "plt.ylabel('Targets')\n",
    "plt.show()"
   ]
  },
  {
   "cell_type": "code",
   "execution_count": null,
   "metadata": {},
   "outputs": [],
   "source": []
  }
 ],
 "metadata": {
  "kernelspec": {
   "display_name": "Python 3",
   "language": "python",
   "name": "python3"
  },
  "language_info": {
   "codemirror_mode": {
    "name": "ipython",
    "version": 3
   },
   "file_extension": ".py",
   "mimetype": "text/x-python",
   "name": "python",
   "nbconvert_exporter": "python",
   "pygments_lexer": "ipython3",
   "version": "3.7.4"
  }
 },
 "nbformat": 4,
 "nbformat_minor": 4
}
