{
 "cells": [
  {
   "cell_type": "markdown",
   "metadata": {},
   "source": [
    "# MNIST Problem"
   ]
  },
  {
   "cell_type": "markdown",
   "metadata": {},
   "source": [
    "El MNIST problem es un problema de reconocimiento de imagenes que consiste en la clasificacion de digitos del 0 al 1 a partir de un dataset que contiene una gran cantidad de digitos escritos a mano.\n",
    "\n",
    "Estos digitos estan contenidos en imagenes de 28x28 pixeles (784 pixeles) que pueden tomar valores de 0 a 255 que representan su intensidad, siendo 0 igual a negro y 255 blanco. Lo que va a hacer la deep network es transformar esta matriz de pixeles a un vector de entrada de dimensiones 784x1, y la misma tendra tantas entradas como pixeles.\n",
    "\n",
    "La red tendra una capa de entrada, con 784 nodos, dos hidden layers y una capa de salida con 10 nodos (una por cada categoria), con una funcion de activacion Softmax. Se usara one-hot encoding para la representacion de las salidas y los targets."
   ]
  },
  {
   "cell_type": "markdown",
   "metadata": {},
   "source": [
    "## Importando Librerias"
   ]
  },
  {
   "cell_type": "code",
   "execution_count": 1,
   "metadata": {},
   "outputs": [],
   "source": [
    "import numpy as np\n",
    "import tensorflow as tf\n",
    "import tensorflow_datasets as tfds"
   ]
  },
  {
   "cell_type": "markdown",
   "metadata": {},
   "source": [
    "## Obteniendo el Dataset"
   ]
  },
  {
   "cell_type": "code",
   "execution_count": 3,
   "metadata": {},
   "outputs": [
    {
     "name": "stderr",
     "output_type": "stream",
     "text": [
      "WARNING:absl:Warning: Setting shuffle_files=True because split=TRAIN and shuffle_files=None. This behavior will be deprecated on 2019-08-06, at which point shuffle_files=False will be the default for all splits.\n"
     ]
    }
   ],
   "source": [
    "# as_supervised lo que hace es descargar el dataset en una estructura de inputs y targets para aprendizaje superisado\n",
    "mnist_dataset, mnist_info = tfds.load(name='mnist', with_info=True, as_supervised=True)"
   ]
  },
  {
   "cell_type": "markdown",
   "metadata": {},
   "source": [
    "## Preprocessing"
   ]
  },
  {
   "cell_type": "code",
   "execution_count": 6,
   "metadata": {},
   "outputs": [],
   "source": [
    "mnist_train, mnist_test = mnist_dataset['train'], mnist_dataset['test']\n",
    "\n",
    "# cantidad de muestras destinadas al validation set\n",
    "num_validation_samples = 0.1 * mnist_info.splits['train'].num_examples\n",
    "num_validation_samples = tf.cast(num_validation_samples, tf.int64) # convierte el resultado a int64\n",
    "\n",
    "# cantidad de muestras que posee el test set\n",
    "num_test_samples = mnist_info.splits['test'].num_examples\n",
    "num_test_samples = tf.cast(num_test_samples, tf.int64)\n",
    "\n",
    "def scale(image, label):\n",
    "    # lo que hace esta funcion es escalar los valores de los pixeles de una imagen a valores entre 0 y 1, al dividir\n",
    "    # por 255, ya que los valores de los pixeles (intensidad) van de 0 a 255\n",
    "    \n",
    "    image = tf.cast(image, tf.float64) # convierte los valores de los pixeles a float32 primero\n",
    "    image /= 255.\n",
    "    return image, label\n",
    "\n",
    "# se aplica el escalado a todas las imagenes del train set\n",
    "scaled_train_data = mnist_train.map(scale)\n",
    "\n",
    "# se aplica el escalado a todas las imagenes del test set\n",
    "test_data = mnist_test.map(scale)\n",
    "\n",
    "\n",
    "# cantidad de muestras que se van a agarrar por vez para realizar el mezcaldo de los datos evitando que se tenga\n",
    "# que poner todo el dataset en memoria de una sola vez, sobre todo para datasets muy grandes\n",
    "BUFFER_SIZE = 10000\n",
    "\n",
    "# se realiza un mezclado de las muestras del data set por las dudas vinieran ordenados segun algun parametro\n",
    "shuffled_train_data = scaled_train_data.shuffle(BUFFER_SIZE)\n",
    "\n",
    "# se toman las primeras num_validation_samples muestras para el validation set, y las siguientes para el train set\n",
    "validation_data = shuffled_train_data.take(num_validation_samples)\n",
    "train_data = shuffled_train_data.skip(num_validation_samples)\n",
    "\n",
    "# batch size para el gradient descent\n",
    "BATCH_SIZE = 100\n",
    "\n",
    "train_data = train_data.batch(BATCH_SIZE)\n",
    "\n",
    "# para el validation set y el test set, no hace falta batching, ya que no se aplica el gradient descent en estos casos,\n",
    "# pero el modelo espera el dataset el forma de batch tambien, pero eso definimos un unico batch con todas las muestras\n",
    "validation_data = validation_data.batch(num_validation_samples)\n",
    "test_data = test_data.batch(num_test_samples)\n",
    "\n",
    "# validation_inputs, validation_targets = next(iter(validation_data))"
   ]
  },
  {
   "cell_type": "markdown",
   "metadata": {},
   "source": [
    "## Inicializando el Modelo"
   ]
  },
  {
   "cell_type": "code",
   "execution_count": 10,
   "metadata": {},
   "outputs": [],
   "source": [
    "input_size = 784\n",
    "output_size = 10\n",
    "hidden_layer_size = 100\n",
    "\n",
    "model = tf.keras.Sequential([\n",
    "    # en la capa de entrada se aplica un faltten a las entradas, que consiste en tranformar la matriz de pixeles\n",
    "    # de las imagenes de entrada (28, 28, 1) en un vector de dimensiones (784, 1), ya que esto no es una red convolucional\n",
    "    tf.keras.layers.Flatten(input_shape=(28, 28, 1)),\n",
    "    tf.keras.layers.Dense(hidden_layer_size, activation='relu'),\n",
    "    tf.keras.layers.Dense(hidden_layer_size, activation='relu'),\n",
    "    tf.keras.layers.Dense(output_size, activation='softmax')\n",
    "])"
   ]
  },
  {
   "cell_type": "code",
   "execution_count": 11,
   "metadata": {},
   "outputs": [],
   "source": [
    "# sparse_categorical_crossentropy es un tipo de categorical crossentropy que aplica one-hot encoding, ya que el formato\n",
    "# de las outputs y de los targets deben coincidir y estar en one-hot encoding, cosa que no hemos hecho\n",
    "\n",
    "model.compile(optimizer='adam', loss='sparse_categorical_crossentropy', metrics=['accuracy'])"
   ]
  },
  {
   "cell_type": "markdown",
   "metadata": {},
   "source": [
    "## Entrenando el Modelo"
   ]
  },
  {
   "cell_type": "code",
   "execution_count": 12,
   "metadata": {},
   "outputs": [
    {
     "name": "stdout",
     "output_type": "stream",
     "text": [
      "Epoch 1/5\n",
      "540/540 - 10s - loss: 0.3324 - accuracy: 0.9069 - val_loss: 0.1896 - val_accuracy: 0.9457\n",
      "Epoch 2/5\n",
      "540/540 - 10s - loss: 0.1400 - accuracy: 0.9593 - val_loss: 0.1245 - val_accuracy: 0.9627\n",
      "Epoch 3/5\n",
      "540/540 - 10s - loss: 0.1009 - accuracy: 0.9697 - val_loss: 0.1024 - val_accuracy: 0.9702\n",
      "Epoch 4/5\n",
      "540/540 - 10s - loss: 0.0754 - accuracy: 0.9772 - val_loss: 0.0809 - val_accuracy: 0.9765\n",
      "Epoch 5/5\n",
      "540/540 - 10s - loss: 0.0623 - accuracy: 0.9811 - val_loss: 0.0709 - val_accuracy: 0.9802\n"
     ]
    },
    {
     "data": {
      "text/plain": [
       "<tensorflow.python.keras.callbacks.History at 0x1820043f8c8>"
      ]
     },
     "execution_count": 12,
     "metadata": {},
     "output_type": "execute_result"
    }
   ],
   "source": [
    "NUM_EPOCHS = 5\n",
    "\n",
    "model.fit(train_data, epochs=NUM_EPOCHS, validation_data=validation_data, verbose=2)"
   ]
  },
  {
   "cell_type": "markdown",
   "metadata": {},
   "source": [
    "## Testeando el Modelo"
   ]
  },
  {
   "cell_type": "code",
   "execution_count": 16,
   "metadata": {},
   "outputs": [
    {
     "name": "stdout",
     "output_type": "stream",
     "text": [
      "      1/Unknown - 1s 1s/step - loss: 0.0911 - accuracy: 0.9723"
     ]
    }
   ],
   "source": [
    "test_loss, test_accuracy = model.evaluate(test_data)\n",
    "\n",
    "# print('Test loss: {0: .2f}. - Test accuracy: {1: .2f}%'.format(test_loss, test_accuracy*100.))"
   ]
  }
 ],
 "metadata": {
  "kernelspec": {
   "display_name": "Python 3",
   "language": "python",
   "name": "python3"
  },
  "language_info": {
   "codemirror_mode": {
    "name": "ipython",
    "version": 3
   },
   "file_extension": ".py",
   "mimetype": "text/x-python",
   "name": "python",
   "nbconvert_exporter": "python",
   "pygments_lexer": "ipython3",
   "version": "3.7.4"
  }
 },
 "nbformat": 4,
 "nbformat_minor": 4
}
